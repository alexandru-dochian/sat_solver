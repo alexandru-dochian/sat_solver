{
 "cells": [
  {
   "cell_type": "code",
   "execution_count": 3,
   "metadata": {},
   "outputs": [],
   "source": [
    "import pandas as pd\n",
    "import numpy as np\n",
    "import os\n",
    "import json\n",
    "import matplotlib.pyplot as plt\n",
    "import seaborn as sb"
   ]
  },
  {
   "cell_type": "markdown",
   "metadata": {},
   "source": [
    "## read data"
   ]
  },
  {
   "cell_type": "code",
   "execution_count": 4,
   "metadata": {},
   "outputs": [],
   "source": [
    "# Define paths\n",
    "path_s2 =r\"C:/Users/Domantas/Desktop/VU AI/knowledge representation/sat_solver/data/4x4/1. Log experiment -S2 4x4 1000 input files/\"\n",
    "path_s3_one_sided = r\"C:/Users/Domantas/Desktop/VU AI/knowledge representation/sat_solver/data/4x4/2. Log experiment -S3 One sided (two sided False) 4x4 1000 input files/\"\n",
    "path_s3_two_sided = r'C:/Users/Domantas/Desktop/VU AI/knowledge representation/sat_solver/data/4x4/3. Log experiment -S3 Two sided JW 4x4 1000 input files/'\n",
    "path_s1 = r'C:/Users/Domantas/Desktop/VU AI/knowledge representation/sat_solver/data/4x4/4. Log experiment -S1 4x4 30 input files/'"
   ]
  },
  {
   "cell_type": "code",
   "execution_count": 5,
   "metadata": {},
   "outputs": [],
   "source": [
    "def logs_to_df(path):\n",
    "    os.chdir(path)\n",
    "\n",
    "    result_df = pd.DataFrame(columns=['heuristic', 'start_time', 'unit_literals', 'number_of_nodes','number_of_backtracks', 'time_lapsed', 'n_givens'])\n",
    "    index_counter = 0\n",
    "    for file in os.listdir(): # iterates through all sudoku log file names\n",
    "        # Create the filepath of particular file\n",
    "        file_path =f\"{path}/{file}\"\n",
    "        with open(file_path) as f:\n",
    "            data = f.read()\n",
    "\n",
    "        js = json.loads(data)\n",
    "\n",
    "\n",
    "        for key in list(js):\n",
    "            if key not in ['heuristic', 'start_time','number_of_nodes','number_of_backtracks','time_lapsed','unit_literals','puzzle_clauses']:\n",
    "                js.pop(key)\n",
    "\n",
    "        js.update({'n_givens' : len(js['puzzle_clauses'])})\n",
    "        js.pop('puzzle_clauses')\n",
    "\n",
    "        result_df = pd.concat([result_df, pd.DataFrame(js, index=[index_counter])])\n",
    "        index_counter+=1\n",
    "    return result_df"
   ]
  },
  {
   "cell_type": "code",
   "execution_count": 6,
   "metadata": {},
   "outputs": [
    {
     "data": {
      "text/html": [
       "<div>\n",
       "<style scoped>\n",
       "    .dataframe tbody tr th:only-of-type {\n",
       "        vertical-align: middle;\n",
       "    }\n",
       "\n",
       "    .dataframe tbody tr th {\n",
       "        vertical-align: top;\n",
       "    }\n",
       "\n",
       "    .dataframe thead th {\n",
       "        text-align: right;\n",
       "    }\n",
       "</style>\n",
       "<table border=\"1\" class=\"dataframe\">\n",
       "  <thead>\n",
       "    <tr style=\"text-align: right;\">\n",
       "      <th></th>\n",
       "      <th>heuristic</th>\n",
       "      <th>start_time</th>\n",
       "      <th>unit_literals</th>\n",
       "      <th>number_of_nodes</th>\n",
       "      <th>number_of_backtracks</th>\n",
       "      <th>time_lapsed</th>\n",
       "      <th>n_givens</th>\n",
       "    </tr>\n",
       "  </thead>\n",
       "  <tbody>\n",
       "    <tr>\n",
       "      <th>0</th>\n",
       "      <td>2</td>\n",
       "      <td>1.668779e+09</td>\n",
       "      <td>150</td>\n",
       "      <td>9</td>\n",
       "      <td>3</td>\n",
       "      <td>0.032679</td>\n",
       "      <td>4</td>\n",
       "    </tr>\n",
       "    <tr>\n",
       "      <th>1</th>\n",
       "      <td>2</td>\n",
       "      <td>1.668779e+09</td>\n",
       "      <td>95</td>\n",
       "      <td>5</td>\n",
       "      <td>1</td>\n",
       "      <td>0.022221</td>\n",
       "      <td>6</td>\n",
       "    </tr>\n",
       "    <tr>\n",
       "      <th>2</th>\n",
       "      <td>2</td>\n",
       "      <td>1.668779e+09</td>\n",
       "      <td>136</td>\n",
       "      <td>12</td>\n",
       "      <td>5</td>\n",
       "      <td>0.027090</td>\n",
       "      <td>4</td>\n",
       "    </tr>\n",
       "    <tr>\n",
       "      <th>3</th>\n",
       "      <td>2</td>\n",
       "      <td>1.668779e+09</td>\n",
       "      <td>90</td>\n",
       "      <td>6</td>\n",
       "      <td>1</td>\n",
       "      <td>0.020044</td>\n",
       "      <td>4</td>\n",
       "    </tr>\n",
       "    <tr>\n",
       "      <th>4</th>\n",
       "      <td>2</td>\n",
       "      <td>1.668779e+09</td>\n",
       "      <td>92</td>\n",
       "      <td>7</td>\n",
       "      <td>2</td>\n",
       "      <td>0.021703</td>\n",
       "      <td>4</td>\n",
       "    </tr>\n",
       "    <tr>\n",
       "      <th>...</th>\n",
       "      <td>...</td>\n",
       "      <td>...</td>\n",
       "      <td>...</td>\n",
       "      <td>...</td>\n",
       "      <td>...</td>\n",
       "      <td>...</td>\n",
       "      <td>...</td>\n",
       "    </tr>\n",
       "    <tr>\n",
       "      <th>995</th>\n",
       "      <td>2</td>\n",
       "      <td>1.668779e+09</td>\n",
       "      <td>93</td>\n",
       "      <td>5</td>\n",
       "      <td>1</td>\n",
       "      <td>0.021951</td>\n",
       "      <td>6</td>\n",
       "    </tr>\n",
       "    <tr>\n",
       "      <th>996</th>\n",
       "      <td>2</td>\n",
       "      <td>1.668779e+09</td>\n",
       "      <td>210</td>\n",
       "      <td>10</td>\n",
       "      <td>4</td>\n",
       "      <td>0.033119</td>\n",
       "      <td>6</td>\n",
       "    </tr>\n",
       "    <tr>\n",
       "      <th>997</th>\n",
       "      <td>2</td>\n",
       "      <td>1.668779e+09</td>\n",
       "      <td>133</td>\n",
       "      <td>8</td>\n",
       "      <td>3</td>\n",
       "      <td>0.022402</td>\n",
       "      <td>6</td>\n",
       "    </tr>\n",
       "    <tr>\n",
       "      <th>998</th>\n",
       "      <td>2</td>\n",
       "      <td>1.668779e+09</td>\n",
       "      <td>71</td>\n",
       "      <td>5</td>\n",
       "      <td>1</td>\n",
       "      <td>0.019133</td>\n",
       "      <td>4</td>\n",
       "    </tr>\n",
       "    <tr>\n",
       "      <th>999</th>\n",
       "      <td>2</td>\n",
       "      <td>1.668779e+09</td>\n",
       "      <td>84</td>\n",
       "      <td>4</td>\n",
       "      <td>0</td>\n",
       "      <td>0.018593</td>\n",
       "      <td>4</td>\n",
       "    </tr>\n",
       "  </tbody>\n",
       "</table>\n",
       "<p>1000 rows × 7 columns</p>\n",
       "</div>"
      ],
      "text/plain": [
       "    heuristic    start_time unit_literals number_of_nodes  \\\n",
       "0           2  1.668779e+09           150               9   \n",
       "1           2  1.668779e+09            95               5   \n",
       "2           2  1.668779e+09           136              12   \n",
       "3           2  1.668779e+09            90               6   \n",
       "4           2  1.668779e+09            92               7   \n",
       "..        ...           ...           ...             ...   \n",
       "995         2  1.668779e+09            93               5   \n",
       "996         2  1.668779e+09           210              10   \n",
       "997         2  1.668779e+09           133               8   \n",
       "998         2  1.668779e+09            71               5   \n",
       "999         2  1.668779e+09            84               4   \n",
       "\n",
       "    number_of_backtracks  time_lapsed n_givens  \n",
       "0                      3     0.032679        4  \n",
       "1                      1     0.022221        6  \n",
       "2                      5     0.027090        4  \n",
       "3                      1     0.020044        4  \n",
       "4                      2     0.021703        4  \n",
       "..                   ...          ...      ...  \n",
       "995                    1     0.021951        6  \n",
       "996                    4     0.033119        6  \n",
       "997                    3     0.022402        6  \n",
       "998                    1     0.019133        4  \n",
       "999                    0     0.018593        4  \n",
       "\n",
       "[1000 rows x 7 columns]"
      ]
     },
     "execution_count": 6,
     "metadata": {},
     "output_type": "execute_result"
    }
   ],
   "source": [
    "logs_to_df(path_s2)"
   ]
  },
  {
   "cell_type": "markdown",
   "metadata": {},
   "source": [
    "### 4x4 heuristic 2:"
   ]
  },
  {
   "cell_type": "code",
   "execution_count": 7,
   "metadata": {},
   "outputs": [
    {
     "data": {
      "text/html": [
       "<div>\n",
       "<style scoped>\n",
       "    .dataframe tbody tr th:only-of-type {\n",
       "        vertical-align: middle;\n",
       "    }\n",
       "\n",
       "    .dataframe tbody tr th {\n",
       "        vertical-align: top;\n",
       "    }\n",
       "\n",
       "    .dataframe thead th {\n",
       "        text-align: right;\n",
       "    }\n",
       "</style>\n",
       "<table border=\"1\" class=\"dataframe\">\n",
       "  <thead>\n",
       "    <tr style=\"text-align: right;\">\n",
       "      <th></th>\n",
       "      <th>heuristic</th>\n",
       "      <th>start_time</th>\n",
       "      <th>unit_literals</th>\n",
       "      <th>number_of_nodes</th>\n",
       "      <th>number_of_backtracks</th>\n",
       "      <th>time_lapsed</th>\n",
       "      <th>n_givens</th>\n",
       "    </tr>\n",
       "  </thead>\n",
       "  <tbody>\n",
       "    <tr>\n",
       "      <th>0</th>\n",
       "      <td>h2</td>\n",
       "      <td>1.668779e+09</td>\n",
       "      <td>150</td>\n",
       "      <td>9</td>\n",
       "      <td>3</td>\n",
       "      <td>0.032679</td>\n",
       "      <td>4</td>\n",
       "    </tr>\n",
       "    <tr>\n",
       "      <th>1</th>\n",
       "      <td>h2</td>\n",
       "      <td>1.668779e+09</td>\n",
       "      <td>95</td>\n",
       "      <td>5</td>\n",
       "      <td>1</td>\n",
       "      <td>0.022221</td>\n",
       "      <td>6</td>\n",
       "    </tr>\n",
       "    <tr>\n",
       "      <th>2</th>\n",
       "      <td>h2</td>\n",
       "      <td>1.668779e+09</td>\n",
       "      <td>136</td>\n",
       "      <td>12</td>\n",
       "      <td>5</td>\n",
       "      <td>0.027090</td>\n",
       "      <td>4</td>\n",
       "    </tr>\n",
       "    <tr>\n",
       "      <th>3</th>\n",
       "      <td>h2</td>\n",
       "      <td>1.668779e+09</td>\n",
       "      <td>90</td>\n",
       "      <td>6</td>\n",
       "      <td>1</td>\n",
       "      <td>0.020044</td>\n",
       "      <td>4</td>\n",
       "    </tr>\n",
       "    <tr>\n",
       "      <th>4</th>\n",
       "      <td>h2</td>\n",
       "      <td>1.668779e+09</td>\n",
       "      <td>92</td>\n",
       "      <td>7</td>\n",
       "      <td>2</td>\n",
       "      <td>0.021703</td>\n",
       "      <td>4</td>\n",
       "    </tr>\n",
       "  </tbody>\n",
       "</table>\n",
       "</div>"
      ],
      "text/plain": [
       "  heuristic    start_time unit_literals number_of_nodes number_of_backtracks  \\\n",
       "0        h2  1.668779e+09           150               9                    3   \n",
       "1        h2  1.668779e+09            95               5                    1   \n",
       "2        h2  1.668779e+09           136              12                    5   \n",
       "3        h2  1.668779e+09            90               6                    1   \n",
       "4        h2  1.668779e+09            92               7                    2   \n",
       "\n",
       "   time_lapsed n_givens  \n",
       "0     0.032679        4  \n",
       "1     0.022221        6  \n",
       "2     0.027090        4  \n",
       "3     0.020044        4  \n",
       "4     0.021703        4  "
      ]
     },
     "execution_count": 7,
     "metadata": {},
     "output_type": "execute_result"
    }
   ],
   "source": [
    "result_df_h2 = logs_to_df(path_s2)\n",
    "result_df_h2['heuristic'] = 'h2'\n",
    "result_df_h2.head()"
   ]
  },
  {
   "cell_type": "markdown",
   "metadata": {},
   "source": [
    "### 4x4 heuristic 3 one-sided:"
   ]
  },
  {
   "cell_type": "code",
   "execution_count": 8,
   "metadata": {},
   "outputs": [
    {
     "data": {
      "text/html": [
       "<div>\n",
       "<style scoped>\n",
       "    .dataframe tbody tr th:only-of-type {\n",
       "        vertical-align: middle;\n",
       "    }\n",
       "\n",
       "    .dataframe tbody tr th {\n",
       "        vertical-align: top;\n",
       "    }\n",
       "\n",
       "    .dataframe thead th {\n",
       "        text-align: right;\n",
       "    }\n",
       "</style>\n",
       "<table border=\"1\" class=\"dataframe\">\n",
       "  <thead>\n",
       "    <tr style=\"text-align: right;\">\n",
       "      <th></th>\n",
       "      <th>heuristic</th>\n",
       "      <th>start_time</th>\n",
       "      <th>unit_literals</th>\n",
       "      <th>number_of_nodes</th>\n",
       "      <th>number_of_backtracks</th>\n",
       "      <th>time_lapsed</th>\n",
       "      <th>n_givens</th>\n",
       "    </tr>\n",
       "  </thead>\n",
       "  <tbody>\n",
       "    <tr>\n",
       "      <th>0</th>\n",
       "      <td>jw_one_sided</td>\n",
       "      <td>1.668780e+09</td>\n",
       "      <td>89</td>\n",
       "      <td>6</td>\n",
       "      <td>0</td>\n",
       "      <td>0.022560</td>\n",
       "      <td>4</td>\n",
       "    </tr>\n",
       "    <tr>\n",
       "      <th>1</th>\n",
       "      <td>jw_one_sided</td>\n",
       "      <td>1.668780e+09</td>\n",
       "      <td>89</td>\n",
       "      <td>6</td>\n",
       "      <td>0</td>\n",
       "      <td>0.022524</td>\n",
       "      <td>4</td>\n",
       "    </tr>\n",
       "    <tr>\n",
       "      <th>2</th>\n",
       "      <td>jw_one_sided</td>\n",
       "      <td>1.668780e+09</td>\n",
       "      <td>87</td>\n",
       "      <td>6</td>\n",
       "      <td>0</td>\n",
       "      <td>0.021794</td>\n",
       "      <td>4</td>\n",
       "    </tr>\n",
       "    <tr>\n",
       "      <th>3</th>\n",
       "      <td>jw_one_sided</td>\n",
       "      <td>1.668780e+09</td>\n",
       "      <td>91</td>\n",
       "      <td>6</td>\n",
       "      <td>0</td>\n",
       "      <td>0.024631</td>\n",
       "      <td>4</td>\n",
       "    </tr>\n",
       "    <tr>\n",
       "      <th>4</th>\n",
       "      <td>jw_one_sided</td>\n",
       "      <td>1.668780e+09</td>\n",
       "      <td>101</td>\n",
       "      <td>5</td>\n",
       "      <td>0</td>\n",
       "      <td>0.020745</td>\n",
       "      <td>6</td>\n",
       "    </tr>\n",
       "  </tbody>\n",
       "</table>\n",
       "</div>"
      ],
      "text/plain": [
       "      heuristic    start_time unit_literals number_of_nodes  \\\n",
       "0  jw_one_sided  1.668780e+09            89               6   \n",
       "1  jw_one_sided  1.668780e+09            89               6   \n",
       "2  jw_one_sided  1.668780e+09            87               6   \n",
       "3  jw_one_sided  1.668780e+09            91               6   \n",
       "4  jw_one_sided  1.668780e+09           101               5   \n",
       "\n",
       "  number_of_backtracks  time_lapsed n_givens  \n",
       "0                    0     0.022560        4  \n",
       "1                    0     0.022524        4  \n",
       "2                    0     0.021794        4  \n",
       "3                    0     0.024631        4  \n",
       "4                    0     0.020745        6  "
      ]
     },
     "execution_count": 8,
     "metadata": {},
     "output_type": "execute_result"
    }
   ],
   "source": [
    "result_df_h3_one_sided = logs_to_df(path_s3_one_sided)\n",
    "result_df_h3_one_sided['heuristic'] = 'jw_one_sided'\n",
    "result_df_h3_one_sided.head()"
   ]
  },
  {
   "cell_type": "markdown",
   "metadata": {},
   "source": [
    "### 4x4 heuristic 3 two-sided"
   ]
  },
  {
   "cell_type": "code",
   "execution_count": 9,
   "metadata": {},
   "outputs": [
    {
     "data": {
      "text/html": [
       "<div>\n",
       "<style scoped>\n",
       "    .dataframe tbody tr th:only-of-type {\n",
       "        vertical-align: middle;\n",
       "    }\n",
       "\n",
       "    .dataframe tbody tr th {\n",
       "        vertical-align: top;\n",
       "    }\n",
       "\n",
       "    .dataframe thead th {\n",
       "        text-align: right;\n",
       "    }\n",
       "</style>\n",
       "<table border=\"1\" class=\"dataframe\">\n",
       "  <thead>\n",
       "    <tr style=\"text-align: right;\">\n",
       "      <th></th>\n",
       "      <th>heuristic</th>\n",
       "      <th>start_time</th>\n",
       "      <th>unit_literals</th>\n",
       "      <th>number_of_nodes</th>\n",
       "      <th>number_of_backtracks</th>\n",
       "      <th>time_lapsed</th>\n",
       "      <th>n_givens</th>\n",
       "    </tr>\n",
       "  </thead>\n",
       "  <tbody>\n",
       "    <tr>\n",
       "      <th>0</th>\n",
       "      <td>jw_two_sided</td>\n",
       "      <td>1.668779e+09</td>\n",
       "      <td>101</td>\n",
       "      <td>9</td>\n",
       "      <td>2</td>\n",
       "      <td>0.021025</td>\n",
       "      <td>4</td>\n",
       "    </tr>\n",
       "    <tr>\n",
       "      <th>1</th>\n",
       "      <td>jw_two_sided</td>\n",
       "      <td>1.668779e+09</td>\n",
       "      <td>91</td>\n",
       "      <td>6</td>\n",
       "      <td>0</td>\n",
       "      <td>0.022342</td>\n",
       "      <td>4</td>\n",
       "    </tr>\n",
       "    <tr>\n",
       "      <th>2</th>\n",
       "      <td>jw_two_sided</td>\n",
       "      <td>1.668779e+09</td>\n",
       "      <td>87</td>\n",
       "      <td>6</td>\n",
       "      <td>0</td>\n",
       "      <td>0.020721</td>\n",
       "      <td>4</td>\n",
       "    </tr>\n",
       "    <tr>\n",
       "      <th>3</th>\n",
       "      <td>jw_two_sided</td>\n",
       "      <td>1.668779e+09</td>\n",
       "      <td>100</td>\n",
       "      <td>4</td>\n",
       "      <td>0</td>\n",
       "      <td>0.020293</td>\n",
       "      <td>6</td>\n",
       "    </tr>\n",
       "    <tr>\n",
       "      <th>4</th>\n",
       "      <td>jw_two_sided</td>\n",
       "      <td>1.668779e+09</td>\n",
       "      <td>107</td>\n",
       "      <td>5</td>\n",
       "      <td>0</td>\n",
       "      <td>0.022023</td>\n",
       "      <td>6</td>\n",
       "    </tr>\n",
       "  </tbody>\n",
       "</table>\n",
       "</div>"
      ],
      "text/plain": [
       "      heuristic    start_time unit_literals number_of_nodes  \\\n",
       "0  jw_two_sided  1.668779e+09           101               9   \n",
       "1  jw_two_sided  1.668779e+09            91               6   \n",
       "2  jw_two_sided  1.668779e+09            87               6   \n",
       "3  jw_two_sided  1.668779e+09           100               4   \n",
       "4  jw_two_sided  1.668779e+09           107               5   \n",
       "\n",
       "  number_of_backtracks  time_lapsed n_givens  \n",
       "0                    2     0.021025        4  \n",
       "1                    0     0.022342        4  \n",
       "2                    0     0.020721        4  \n",
       "3                    0     0.020293        6  \n",
       "4                    0     0.022023        6  "
      ]
     },
     "execution_count": 9,
     "metadata": {},
     "output_type": "execute_result"
    }
   ],
   "source": [
    "result_df_h3_two_sided = logs_to_df(path_s3_two_sided)\n",
    "result_df_h3_two_sided['heuristic'] = 'jw_two_sided'\n",
    "result_df_h3_two_sided.head()"
   ]
  },
  {
   "cell_type": "markdown",
   "metadata": {},
   "source": [
    "### 4x4 heuristic 1"
   ]
  },
  {
   "cell_type": "code",
   "execution_count": 10,
   "metadata": {},
   "outputs": [
    {
     "data": {
      "text/html": [
       "<div>\n",
       "<style scoped>\n",
       "    .dataframe tbody tr th:only-of-type {\n",
       "        vertical-align: middle;\n",
       "    }\n",
       "\n",
       "    .dataframe tbody tr th {\n",
       "        vertical-align: top;\n",
       "    }\n",
       "\n",
       "    .dataframe thead th {\n",
       "        text-align: right;\n",
       "    }\n",
       "</style>\n",
       "<table border=\"1\" class=\"dataframe\">\n",
       "  <thead>\n",
       "    <tr style=\"text-align: right;\">\n",
       "      <th></th>\n",
       "      <th>heuristic</th>\n",
       "      <th>start_time</th>\n",
       "      <th>unit_literals</th>\n",
       "      <th>number_of_nodes</th>\n",
       "      <th>number_of_backtracks</th>\n",
       "      <th>time_lapsed</th>\n",
       "      <th>n_givens</th>\n",
       "    </tr>\n",
       "  </thead>\n",
       "  <tbody>\n",
       "    <tr>\n",
       "      <th>0</th>\n",
       "      <td>h1</td>\n",
       "      <td>1.668788e+09</td>\n",
       "      <td>0</td>\n",
       "      <td>181433</td>\n",
       "      <td>90708</td>\n",
       "      <td>180.698524</td>\n",
       "      <td>4</td>\n",
       "    </tr>\n",
       "    <tr>\n",
       "      <th>1</th>\n",
       "      <td>h1</td>\n",
       "      <td>1.668789e+09</td>\n",
       "      <td>0</td>\n",
       "      <td>14397</td>\n",
       "      <td>7190</td>\n",
       "      <td>15.206277</td>\n",
       "      <td>6</td>\n",
       "    </tr>\n",
       "    <tr>\n",
       "      <th>2</th>\n",
       "      <td>h1</td>\n",
       "      <td>1.668781e+09</td>\n",
       "      <td>0</td>\n",
       "      <td>24915</td>\n",
       "      <td>12449</td>\n",
       "      <td>29.960734</td>\n",
       "      <td>6</td>\n",
       "    </tr>\n",
       "    <tr>\n",
       "      <th>3</th>\n",
       "      <td>h1</td>\n",
       "      <td>1.668780e+09</td>\n",
       "      <td>0</td>\n",
       "      <td>18045</td>\n",
       "      <td>9014</td>\n",
       "      <td>22.827781</td>\n",
       "      <td>6</td>\n",
       "    </tr>\n",
       "    <tr>\n",
       "      <th>4</th>\n",
       "      <td>h1</td>\n",
       "      <td>1.668787e+09</td>\n",
       "      <td>0</td>\n",
       "      <td>1357</td>\n",
       "      <td>670</td>\n",
       "      <td>1.706477</td>\n",
       "      <td>6</td>\n",
       "    </tr>\n",
       "  </tbody>\n",
       "</table>\n",
       "</div>"
      ],
      "text/plain": [
       "  heuristic    start_time unit_literals number_of_nodes number_of_backtracks  \\\n",
       "0        h1  1.668788e+09             0          181433                90708   \n",
       "1        h1  1.668789e+09             0           14397                 7190   \n",
       "2        h1  1.668781e+09             0           24915                12449   \n",
       "3        h1  1.668780e+09             0           18045                 9014   \n",
       "4        h1  1.668787e+09             0            1357                  670   \n",
       "\n",
       "   time_lapsed n_givens  \n",
       "0   180.698524        4  \n",
       "1    15.206277        6  \n",
       "2    29.960734        6  \n",
       "3    22.827781        6  \n",
       "4     1.706477        6  "
      ]
     },
     "execution_count": 10,
     "metadata": {},
     "output_type": "execute_result"
    }
   ],
   "source": [
    "result_df_h1 = logs_to_df(path_s1)\n",
    "result_df_h1['heuristic'] = 'h1'\n",
    "result_df_h1.head()"
   ]
  },
  {
   "cell_type": "markdown",
   "metadata": {},
   "source": [
    "### concat all dataframes:"
   ]
  },
  {
   "cell_type": "code",
   "execution_count": 11,
   "metadata": {},
   "outputs": [],
   "source": [
    "sudoku4x4_results =  pd.concat([result_df_h2,result_df_h3_one_sided,result_df_h3_two_sided,result_df_h1])"
   ]
  },
  {
   "cell_type": "markdown",
   "metadata": {},
   "source": [
    "#### main statistics:"
   ]
  },
  {
   "cell_type": "code",
   "execution_count": 12,
   "metadata": {},
   "outputs": [
    {
     "data": {
      "text/plain": [
       "heuristic                  4\n",
       "start_time              3030\n",
       "unit_literals            118\n",
       "number_of_nodes           45\n",
       "number_of_backtracks      39\n",
       "time_lapsed             2711\n",
       "n_givens                   2\n",
       "dtype: int64"
      ]
     },
     "execution_count": 12,
     "metadata": {},
     "output_type": "execute_result"
    }
   ],
   "source": [
    "sudoku4x4_results.nunique()"
   ]
  },
  {
   "cell_type": "code",
   "execution_count": 13,
   "metadata": {},
   "outputs": [
    {
     "data": {
      "text/html": [
       "<div>\n",
       "<style scoped>\n",
       "    .dataframe tbody tr th:only-of-type {\n",
       "        vertical-align: middle;\n",
       "    }\n",
       "\n",
       "    .dataframe tbody tr th {\n",
       "        vertical-align: top;\n",
       "    }\n",
       "\n",
       "    .dataframe thead tr th {\n",
       "        text-align: left;\n",
       "    }\n",
       "\n",
       "    .dataframe thead tr:last-of-type th {\n",
       "        text-align: right;\n",
       "    }\n",
       "</style>\n",
       "<table border=\"1\" class=\"dataframe\">\n",
       "  <thead>\n",
       "    <tr>\n",
       "      <th></th>\n",
       "      <th colspan=\"4\" halign=\"left\">time_lapsed</th>\n",
       "    </tr>\n",
       "    <tr>\n",
       "      <th></th>\n",
       "      <th>mean</th>\n",
       "      <th>std</th>\n",
       "      <th>min</th>\n",
       "      <th>max</th>\n",
       "    </tr>\n",
       "    <tr>\n",
       "      <th>heuristic</th>\n",
       "      <th></th>\n",
       "      <th></th>\n",
       "      <th></th>\n",
       "      <th></th>\n",
       "    </tr>\n",
       "  </thead>\n",
       "  <tbody>\n",
       "    <tr>\n",
       "      <th>h1</th>\n",
       "      <td>110.649474</td>\n",
       "      <td>96.479384</td>\n",
       "      <td>1.706477</td>\n",
       "      <td>333.087855</td>\n",
       "    </tr>\n",
       "    <tr>\n",
       "      <th>h2</th>\n",
       "      <td>0.024207</td>\n",
       "      <td>0.005052</td>\n",
       "      <td>0.017636</td>\n",
       "      <td>0.062079</td>\n",
       "    </tr>\n",
       "    <tr>\n",
       "      <th>jw_one_sided</th>\n",
       "      <td>0.021900</td>\n",
       "      <td>0.002521</td>\n",
       "      <td>0.017117</td>\n",
       "      <td>0.042463</td>\n",
       "    </tr>\n",
       "    <tr>\n",
       "      <th>jw_two_sided</th>\n",
       "      <td>0.022035</td>\n",
       "      <td>0.002552</td>\n",
       "      <td>0.018057</td>\n",
       "      <td>0.043859</td>\n",
       "    </tr>\n",
       "  </tbody>\n",
       "</table>\n",
       "</div>"
      ],
      "text/plain": [
       "             time_lapsed                                 \n",
       "                    mean        std       min         max\n",
       "heuristic                                                \n",
       "h1            110.649474  96.479384  1.706477  333.087855\n",
       "h2              0.024207   0.005052  0.017636    0.062079\n",
       "jw_one_sided    0.021900   0.002521  0.017117    0.042463\n",
       "jw_two_sided    0.022035   0.002552  0.018057    0.043859"
      ]
     },
     "execution_count": 13,
     "metadata": {},
     "output_type": "execute_result"
    }
   ],
   "source": [
    "time_stats = sudoku4x4_results[[\"heuristic\", \"time_lapsed\"]].groupby(\"heuristic\").agg({'time_lapsed': ['mean','std' ,'min', 'max']})\n",
    "time_stats"
   ]
  },
  {
   "cell_type": "code",
   "execution_count": 14,
   "metadata": {},
   "outputs": [
    {
     "data": {
      "text/html": [
       "<div>\n",
       "<style scoped>\n",
       "    .dataframe tbody tr th:only-of-type {\n",
       "        vertical-align: middle;\n",
       "    }\n",
       "\n",
       "    .dataframe tbody tr th {\n",
       "        vertical-align: top;\n",
       "    }\n",
       "\n",
       "    .dataframe thead tr th {\n",
       "        text-align: left;\n",
       "    }\n",
       "\n",
       "    .dataframe thead tr:last-of-type th {\n",
       "        text-align: right;\n",
       "    }\n",
       "</style>\n",
       "<table border=\"1\" class=\"dataframe\">\n",
       "  <thead>\n",
       "    <tr>\n",
       "      <th></th>\n",
       "      <th colspan=\"4\" halign=\"left\">number_of_backtracks</th>\n",
       "    </tr>\n",
       "    <tr>\n",
       "      <th></th>\n",
       "      <th>mean</th>\n",
       "      <th>std</th>\n",
       "      <th>min</th>\n",
       "      <th>max</th>\n",
       "    </tr>\n",
       "    <tr>\n",
       "      <th>heuristic</th>\n",
       "      <th></th>\n",
       "      <th></th>\n",
       "      <th></th>\n",
       "      <th></th>\n",
       "    </tr>\n",
       "  </thead>\n",
       "  <tbody>\n",
       "    <tr>\n",
       "      <th>h1</th>\n",
       "      <td>52441.400</td>\n",
       "      <td>45049.008598</td>\n",
       "      <td>670</td>\n",
       "      <td>147135</td>\n",
       "    </tr>\n",
       "    <tr>\n",
       "      <th>h2</th>\n",
       "      <td>2.475</td>\n",
       "      <td>1.590567</td>\n",
       "      <td>0</td>\n",
       "      <td>8</td>\n",
       "    </tr>\n",
       "    <tr>\n",
       "      <th>jw_one_sided</th>\n",
       "      <td>0.353</td>\n",
       "      <td>0.794369</td>\n",
       "      <td>0</td>\n",
       "      <td>3</td>\n",
       "    </tr>\n",
       "    <tr>\n",
       "      <th>jw_two_sided</th>\n",
       "      <td>0.353</td>\n",
       "      <td>0.794369</td>\n",
       "      <td>0</td>\n",
       "      <td>3</td>\n",
       "    </tr>\n",
       "  </tbody>\n",
       "</table>\n",
       "</div>"
      ],
      "text/plain": [
       "             number_of_backtracks                           \n",
       "                             mean           std  min     max\n",
       "heuristic                                                   \n",
       "h1                      52441.400  45049.008598  670  147135\n",
       "h2                          2.475      1.590567    0       8\n",
       "jw_one_sided                0.353      0.794369    0       3\n",
       "jw_two_sided                0.353      0.794369    0       3"
      ]
     },
     "execution_count": 14,
     "metadata": {},
     "output_type": "execute_result"
    }
   ],
   "source": [
    "backtrack_stats = sudoku4x4_results[[\"heuristic\",'number_of_backtracks']].groupby(\"heuristic\").agg({'number_of_backtracks': ['mean','std' ,'min', 'max']})\n",
    "backtrack_stats"
   ]
  },
  {
   "cell_type": "code",
   "execution_count": 15,
   "metadata": {},
   "outputs": [
    {
     "data": {
      "text/html": [
       "<div>\n",
       "<style scoped>\n",
       "    .dataframe tbody tr th:only-of-type {\n",
       "        vertical-align: middle;\n",
       "    }\n",
       "\n",
       "    .dataframe tbody tr th {\n",
       "        vertical-align: top;\n",
       "    }\n",
       "\n",
       "    .dataframe thead tr th {\n",
       "        text-align: left;\n",
       "    }\n",
       "\n",
       "    .dataframe thead tr:last-of-type th {\n",
       "        text-align: right;\n",
       "    }\n",
       "</style>\n",
       "<table border=\"1\" class=\"dataframe\">\n",
       "  <thead>\n",
       "    <tr>\n",
       "      <th></th>\n",
       "      <th colspan=\"4\" halign=\"left\">number_of_nodes</th>\n",
       "    </tr>\n",
       "    <tr>\n",
       "      <th></th>\n",
       "      <th>mean</th>\n",
       "      <th>std</th>\n",
       "      <th>min</th>\n",
       "      <th>max</th>\n",
       "    </tr>\n",
       "    <tr>\n",
       "      <th>heuristic</th>\n",
       "      <th></th>\n",
       "      <th></th>\n",
       "      <th></th>\n",
       "      <th></th>\n",
       "    </tr>\n",
       "  </thead>\n",
       "  <tbody>\n",
       "    <tr>\n",
       "      <th>h1</th>\n",
       "      <td>104899.800</td>\n",
       "      <td>90098.017197</td>\n",
       "      <td>1357</td>\n",
       "      <td>294287</td>\n",
       "    </tr>\n",
       "    <tr>\n",
       "      <th>h2</th>\n",
       "      <td>8.038</td>\n",
       "      <td>2.818954</td>\n",
       "      <td>4</td>\n",
       "      <td>18</td>\n",
       "    </tr>\n",
       "    <tr>\n",
       "      <th>jw_one_sided</th>\n",
       "      <td>5.471</td>\n",
       "      <td>1.627208</td>\n",
       "      <td>4</td>\n",
       "      <td>10</td>\n",
       "    </tr>\n",
       "    <tr>\n",
       "      <th>jw_two_sided</th>\n",
       "      <td>5.471</td>\n",
       "      <td>1.627208</td>\n",
       "      <td>4</td>\n",
       "      <td>10</td>\n",
       "    </tr>\n",
       "  </tbody>\n",
       "</table>\n",
       "</div>"
      ],
      "text/plain": [
       "             number_of_nodes                            \n",
       "                        mean           std   min     max\n",
       "heuristic                                               \n",
       "h1                104899.800  90098.017197  1357  294287\n",
       "h2                     8.038      2.818954     4      18\n",
       "jw_one_sided           5.471      1.627208     4      10\n",
       "jw_two_sided           5.471      1.627208     4      10"
      ]
     },
     "execution_count": 15,
     "metadata": {},
     "output_type": "execute_result"
    }
   ],
   "source": [
    "number_of_nodes_stats = sudoku4x4_results[[\"heuristic\",'number_of_nodes']].groupby(\"heuristic\").agg({'number_of_nodes': ['mean','std' ,'min', 'max']})\n",
    "number_of_nodes_stats"
   ]
  },
  {
   "cell_type": "markdown",
   "metadata": {},
   "source": [
    "### plotting:"
   ]
  },
  {
   "cell_type": "code",
   "execution_count": 16,
   "metadata": {},
   "outputs": [
    {
     "data": {
      "text/plain": [
       "<AxesSubplot: xlabel='heuristic'>"
      ]
     },
     "execution_count": 16,
     "metadata": {},
     "output_type": "execute_result"
    },
    {
     "data": {
      "image/png": "[encoded data removed]",
      "text/plain": [
       "<Figure size 640x480 with 1 Axes>"
      ]
     },
     "metadata": {},
     "output_type": "display_data"
    }
   ],
   "source": [
    "sudoku4x4_results[sudoku4x4_results['heuristic'] != 'h1'].groupby(['heuristic'])['number_of_backtracks'].agg(['mean','std']).plot.bar()\n"
   ]
  },
  {
   "cell_type": "code",
   "execution_count": 17,
   "metadata": {},
   "outputs": [
    {
     "data": {
      "text/plain": [
       "<AxesSubplot: xlabel='heuristic'>"
      ]
     },
     "execution_count": 17,
     "metadata": {},
     "output_type": "execute_result"
    },
    {
     "data": {
      "image/png": "[encoded data removed]",
      "text/plain": [
       "<Figure size 640x480 with 1 Axes>"
      ]
     },
     "metadata": {},
     "output_type": "display_data"
    }
   ],
   "source": [
    "sudoku4x4_results[sudoku4x4_results['heuristic'] != 'h1'].groupby(['heuristic'])['time_lapsed'].agg(['mean','std']).plot.bar()\n"
   ]
  },
  {
   "cell_type": "code",
   "execution_count": 18,
   "metadata": {},
   "outputs": [
    {
     "data": {
      "text/plain": [
       "[Text(0.5, 1.0, 'Frequency Histogram'), Text(0, 0.5, 'Frequency')]"
      ]
     },
     "execution_count": 18,
     "metadata": {},
     "output_type": "execute_result"
    },
    {
     "data": {
      "image/png": "[encoded data removed]",
      "text/plain": [
       "<Figure size 640x480 with 1 Axes>"
      ]
     },
     "metadata": {},
     "output_type": "display_data"
    }
   ],
   "source": [
    "# Plot Histogram on x\n",
    "plt.hist(result_df_h2['number_of_backtracks'], bins=10)\n",
    "plt.gca().set(title='Frequency Histogram', ylabel='Frequency')"
   ]
  },
  {
   "cell_type": "code",
   "execution_count": 19,
   "metadata": {},
   "outputs": [
    {
     "data": {
      "text/plain": [
       "[Text(0.5, 1.0, 'Frequency Histogram'), Text(0, 0.5, 'Frequency')]"
      ]
     },
     "execution_count": 19,
     "metadata": {},
     "output_type": "execute_result"
    },
    {
     "data": {
      "image/png": "[encoded data removed]",
      "text/plain": [
       "<Figure size 640x480 with 1 Axes>"
      ]
     },
     "metadata": {},
     "output_type": "display_data"
    }
   ],
   "source": [
    "plt.hist(result_df_h3_two_sided['number_of_backtracks'], bins=10)\n",
    "plt.gca().set(title='Frequency Histogram', ylabel='Frequency')"
   ]
  },
  {
   "cell_type": "code",
   "execution_count": 20,
   "metadata": {},
   "outputs": [
    {
     "data": {
      "text/plain": [
       "[Text(0.5, 1.0, 'Frequency Histogram'), Text(0, 0.5, 'Frequency')]"
      ]
     },
     "execution_count": 20,
     "metadata": {},
     "output_type": "execute_result"
    },
    {
     "data": {
      "image/png": "[encoded data removed]",
      "text/plain": [
       "<Figure size 640x480 with 1 Axes>"
      ]
     },
     "metadata": {},
     "output_type": "display_data"
    }
   ],
   "source": [
    "plt.hist(result_df_h3_one_sided['number_of_backtracks'], bins=10)\n",
    "plt.gca().set(title='Frequency Histogram', ylabel='Frequency')"
   ]
  },
  {
   "cell_type": "markdown",
   "metadata": {},
   "source": [
    "## distribution of occurences\n",
    "note: leaving this part for now"
   ]
  },
  {
   "cell_type": "code",
   "execution_count": 21,
   "metadata": {},
   "outputs": [],
   "source": [
    "# Define paths\n",
    "path_s2 =r\"C:/Users/Domantas/Desktop/VU AI/knowledge representation/sat_solver/data/4x4/1. Log experiment -S2 4x4 1000 input files/\"\n",
    "path_s3_one_sided = r\"C:/Users/Domantas/Desktop/VU AI/knowledge representation/sat_solver/data/4x4/2. Log experiment -S3 One sided (two sided False) 4x4 1000 input files/\"\n",
    "path_s3_two_sided = r'C:/Users/Domantas/Desktop/VU AI/knowledge representation/sat_solver/data/4x4/3. Log experiment -S3 Two sided JW 4x4 1000 input files/'\n",
    "path_s1 = r'C:/Users/Domantas/Desktop/VU AI/knowledge representation/sat_solver/data/4x4/4. Log experiment -S1 4x4 30 input files/'"
   ]
  },
  {
   "cell_type": "code",
   "execution_count": 22,
   "metadata": {},
   "outputs": [],
   "source": [
    "path_s2 =r\"C:/Users/Domantas/Desktop/VU AI/knowledge representation/sat_solver/data/4x4/1. Log experiment -S2 4x4 1000 input files/\"\n",
    "os.chdir(path_s2)\n",
    "#I call first file just to create list_of_variables, and count_occurances dict\n",
    "with open(os.listdir()[0]) as f:\n",
    "        data = json.load(f)\n",
    "\n",
    "list_of_variables = list(data['initial_state']['variables'])\n",
    "\n",
    "count_occurances = dict(zip(list_of_variables, [0 for i in range(len(list_of_variables))]))\n",
    "# counting starts here\n",
    "for file in os.listdir():\n",
    "    with open(file) as f:\n",
    "        data = json.load(f)\n",
    "\n",
    "\n",
    "\n",
    "    list_of_clauses = data['initial_state']['set_of_clauses']\n",
    "\n",
    "    \n",
    "\n",
    "    for var in list_of_variables:\n",
    "        for clause in list_of_clauses:\n",
    "            if var in clause or ('-'+var) in clause:\n",
    "                count_occurances.update({var: count_occurances[var] + 1})\n"
   ]
  },
  {
   "cell_type": "code",
   "execution_count": 23,
   "metadata": {},
   "outputs": [
    {
     "data": {
      "text/plain": [
       "{'111': 16079,\n",
       " '112': 16078,\n",
       " '113': 16069,\n",
       " '114': 16078,\n",
       " '121': 16092,\n",
       " '122': 16086,\n",
       " '123': 16071,\n",
       " '124': 16074,\n",
       " '131': 16074,\n",
       " '132': 16071,\n",
       " '133': 16081,\n",
       " '134': 16079,\n",
       " '141': 16072,\n",
       " '142': 16074,\n",
       " '143': 16080,\n",
       " '144': 16088,\n",
       " '211': 16073,\n",
       " '212': 16073,\n",
       " '213': 16086,\n",
       " '214': 16073,\n",
       " '221': 16073,\n",
       " '222': 16080,\n",
       " '223': 16073,\n",
       " '224': 16071,\n",
       " '231': 16088,\n",
       " '232': 16075,\n",
       " '233': 16076,\n",
       " '234': 16059,\n",
       " '241': 16077,\n",
       " '242': 16086,\n",
       " '243': 16080,\n",
       " '244': 16078,\n",
       " '311': 16076,\n",
       " '312': 16088,\n",
       " '313': 16066,\n",
       " '314': 16091,\n",
       " '321': 16076,\n",
       " '322': 16071,\n",
       " '323': 16081,\n",
       " '324': 16070,\n",
       " '331': 16077,\n",
       " '332': 16075,\n",
       " '333': 16079,\n",
       " '334': 16066,\n",
       " '341': 16075,\n",
       " '342': 16070,\n",
       " '343': 16082,\n",
       " '344': 16078,\n",
       " '411': 16074,\n",
       " '412': 16084,\n",
       " '413': 16076,\n",
       " '414': 16080,\n",
       " '421': 16078,\n",
       " '422': 16066,\n",
       " '423': 16079,\n",
       " '424': 16082,\n",
       " '431': 16081,\n",
       " '432': 16080,\n",
       " '433': 16075,\n",
       " '434': 16087,\n",
       " '441': 16080,\n",
       " '442': 16071,\n",
       " '443': 16070,\n",
       " '444': 16083}"
      ]
     },
     "execution_count": 23,
     "metadata": {},
     "output_type": "execute_result"
    }
   ],
   "source": [
    "count_occurances"
   ]
  }
 ],
 "metadata": {
  "kernelspec": {
   "display_name": "Python 3.10.7 ('siamese')",
   "language": "python",
   "name": "python3"
  },
  "language_info": {
   "codemirror_mode": {
    "name": "ipython",
    "version": 3
   },
   "file_extension": ".py",
   "mimetype": "text/x-python",
   "name": "python",
   "nbconvert_exporter": "python",
   "pygments_lexer": "ipython3",
   "version": "3.10.7"
  },
  "orig_nbformat": 4,
  "vscode": {
   "interpreter": {
    "hash": "8c2c28573e3a6626d5aac8da9077d5aaea25c67e9245ba4bcdcff87928e935e6"
   }
  }
 },
 "nbformat": 4,
 "nbformat_minor": 2
}
