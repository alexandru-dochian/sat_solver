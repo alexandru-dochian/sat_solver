{
 "cells": [
  {
   "cell_type": "markdown",
   "metadata": {},
   "source": [
    "# Utils"
   ]
  },
  {
   "cell_type": "code",
   "execution_count": 1,
   "metadata": {},
   "outputs": [],
   "source": [
    "def get_string_from_matrix(matrix):\n",
    "    result = \"\"\n",
    "    for row in matrix:\n",
    "        result += (\" \".join(row) + \"\\n\")\n",
    "    return result"
   ]
  },
  {
   "cell_type": "markdown",
   "metadata": {},
   "source": [
    "# Graphs"
   ]
  },
  {
   "cell_type": "code",
   "execution_count": 2,
   "metadata": {},
   "outputs": [],
   "source": [
    "import json"
   ]
  },
  {
   "cell_type": "code",
   "execution_count": 3,
   "metadata": {},
   "outputs": [
    {
     "name": "stdout",
     "output_type": "stream",
     "text": [
      "data dict_keys(['heuristic', 'input_file', 'start_time', 'puzzle_clauses', 'unit_literals', 'number_of_nodes', 'initial_state', 'final_state', 'initial_sudoku', 'time_lapsed', 'final_sudoku'])\n"
     ]
    }
   ],
   "source": [
    "log_file = \"logs/oqAWmPMOiX.log\"\n",
    "\n",
    "with open(log_file) as f:\n",
    "    data = json.load(f)\n",
    "\n",
    "print(\"data\", data.keys())"
   ]
  },
  {
   "cell_type": "code",
   "execution_count": 4,
   "metadata": {},
   "outputs": [
    {
     "name": "stdout",
     "output_type": "stream",
     "text": [
      "Initial Sudoku:\n",
      "? ? ? ? 2 3 ? ? ?\n",
      "8 ? ? ? ? ? 4 ? ?\n",
      "? ? ? ? ? ? 1 ? ?\n",
      "1 ? ? 8 ? ? 6 ? ?\n",
      "? ? ? ? ? ? ? 7 ?\n",
      "? ? 4 ? ? ? ? ? ?\n",
      "? 5 ? ? 6 ? ? 2 ?\n",
      "? 2 ? ? ? ? ? 3 5\n",
      "? ? ? 4 ? ? ? ? ?\n",
      "\n",
      "input_file input/9x9/test1.in\n",
      "heuristic 2\n",
      "unit_literals 17245\n",
      "number_of_nodes 1382\n",
      "time_lapsed 17.571985721588135\n",
      "\n",
      "Final Sudoku:\n",
      "6 4 9 1 2 3 5 8 7\n",
      "8 1 3 5 9 7 4 6 2\n",
      "2 7 5 6 8 4 1 9 3\n",
      "1 3 2 8 7 5 6 4 9\n",
      "5 9 8 2 4 6 3 7 1\n",
      "7 6 4 9 3 1 2 5 8\n",
      "9 5 1 3 6 8 7 2 4\n",
      "4 2 6 7 1 9 8 3 5\n",
      "3 8 7 4 5 2 9 1 6\n",
      "\n"
     ]
    }
   ],
   "source": [
    "print(\"Initial Sudoku:\\n{}\".format(get_string_from_matrix(data[\"initial_sudoku\"])))\n",
    "\n",
    "print(\"input_file\", data[\"input_file\"])\n",
    "print(\"heuristic\", data[\"heuristic\"])\n",
    "print(\"unit_literals\", data[\"unit_literals\"])\n",
    "print(\"number_of_nodes\", data[\"number_of_nodes\"])\n",
    "print(\"time_lapsed\", data[\"time_lapsed\"])\n",
    "\n",
    "print(\"\\nFinal Sudoku:\\n{}\".format(get_string_from_matrix(data[\"final_sudoku\"])))"
   ]
  },
  {
   "cell_type": "code",
   "execution_count": null,
   "metadata": {},
   "outputs": [],
   "source": []
  }
 ],
 "metadata": {
  "kernelspec": {
   "display_name": "Python 3.9.2 64-bit",
   "language": "python",
   "name": "python3"
  },
  "language_info": {
   "codemirror_mode": {
    "name": "ipython",
    "version": 3
   },
   "file_extension": ".py",
   "mimetype": "text/x-python",
   "name": "python",
   "nbconvert_exporter": "python",
   "pygments_lexer": "ipython3",
   "version": "3.9.2"
  },
  "orig_nbformat": 4,
  "vscode": {
   "interpreter": {
    "hash": "aee8b7b246df8f9039afb4144a1f6fd8d2ca17a180786b69acc140d282b71a49"
   }
  }
 },
 "nbformat": 4,
 "nbformat_minor": 2
}
