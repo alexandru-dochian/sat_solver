{
 "cells": [
  {
   "cell_type": "code",
   "execution_count": 4,
   "metadata": {},
   "outputs": [],
   "source": [
    "import pandas as pd\n",
    "import numpy as np\n",
    "import os\n",
    "import json\n",
    "import matplotlib.pyplot as plt\n",
    "import seaborn as sb"
   ]
  },
  {
   "cell_type": "markdown",
   "metadata": {},
   "source": [
    "## read data"
   ]
  },
  {
   "cell_type": "code",
   "execution_count": 1,
   "metadata": {},
   "outputs": [],
   "source": [
    "# Define paths\n",
    "path_s2 =r\"C:/Users/Domantas/Desktop/VU AI/knowledge representation/sat_solver/data/9x9/1.9x9 1000 samples -S2/\"\n",
    "path_s3_one_sided = r\"C:/Users/Domantas/Desktop/VU AI/knowledge representation/sat_solver/data/9x9/2. 9x9 1000 samples -S3 Two sided False/\"\n",
    "path_s3_two_sided = r'C:/Users/Domantas/Desktop/VU AI/knowledge representation/sat_solver/data/9x9/3. 9x9 1000 samples -S3 Two sided True/'\n"
   ]
  },
  {
   "cell_type": "code",
   "execution_count": 5,
   "metadata": {},
   "outputs": [],
   "source": [
    "def logs_to_df(path):\n",
    "    os.chdir(path)\n",
    "\n",
    "    result_df = pd.DataFrame(columns=['heuristic', 'start_time', 'unit_literals', 'number_of_nodes','number_of_backtracks', 'time_lapsed', 'n_givens'])\n",
    "    index_counter = 0\n",
    "    for file in os.listdir(): # iterates through all sudoku log file names\n",
    "        # Create the filepath of particular file\n",
    "        file_path =f\"{path}/{file}\"\n",
    "        with open(file_path) as f:\n",
    "            data = f.read()\n",
    "\n",
    "        js = json.loads(data)\n",
    "\n",
    "\n",
    "        for key in list(js):\n",
    "            if key not in ['heuristic', 'start_time','number_of_nodes','number_of_backtracks','time_lapsed','unit_literals','puzzle_clauses']:\n",
    "                js.pop(key)\n",
    "\n",
    "        js.update({'n_givens' : len(js['puzzle_clauses'])})\n",
    "        js.pop('puzzle_clauses')\n",
    "\n",
    "        result_df = pd.concat([result_df, pd.DataFrame(js, index=[index_counter])])\n",
    "        index_counter+=1\n",
    "    return result_df"
   ]
  },
  {
   "cell_type": "markdown",
   "metadata": {},
   "source": [
    "### 9x9 heuristic 2:"
   ]
  },
  {
   "cell_type": "code",
   "execution_count": 7,
   "metadata": {},
   "outputs": [
    {
     "data": {
      "text/html": [
       "<div>\n",
       "<style scoped>\n",
       "    .dataframe tbody tr th:only-of-type {\n",
       "        vertical-align: middle;\n",
       "    }\n",
       "\n",
       "    .dataframe tbody tr th {\n",
       "        vertical-align: top;\n",
       "    }\n",
       "\n",
       "    .dataframe thead th {\n",
       "        text-align: right;\n",
       "    }\n",
       "</style>\n",
       "<table border=\"1\" class=\"dataframe\">\n",
       "  <thead>\n",
       "    <tr style=\"text-align: right;\">\n",
       "      <th></th>\n",
       "      <th>heuristic</th>\n",
       "      <th>start_time</th>\n",
       "      <th>unit_literals</th>\n",
       "      <th>number_of_nodes</th>\n",
       "      <th>number_of_backtracks</th>\n",
       "      <th>time_lapsed</th>\n",
       "      <th>n_givens</th>\n",
       "    </tr>\n",
       "  </thead>\n",
       "  <tbody>\n",
       "    <tr>\n",
       "      <th>0</th>\n",
       "      <td>h2</td>\n",
       "      <td>1.668796e+09</td>\n",
       "      <td>3995</td>\n",
       "      <td>234</td>\n",
       "      <td>114</td>\n",
       "      <td>4.101451</td>\n",
       "      <td>25</td>\n",
       "    </tr>\n",
       "    <tr>\n",
       "      <th>1</th>\n",
       "      <td>h2</td>\n",
       "      <td>1.668791e+09</td>\n",
       "      <td>4413</td>\n",
       "      <td>253</td>\n",
       "      <td>124</td>\n",
       "      <td>4.286041</td>\n",
       "      <td>22</td>\n",
       "    </tr>\n",
       "    <tr>\n",
       "      <th>2</th>\n",
       "      <td>h2</td>\n",
       "      <td>1.668792e+09</td>\n",
       "      <td>7973</td>\n",
       "      <td>494</td>\n",
       "      <td>244</td>\n",
       "      <td>8.806196</td>\n",
       "      <td>24</td>\n",
       "    </tr>\n",
       "    <tr>\n",
       "      <th>3</th>\n",
       "      <td>h2</td>\n",
       "      <td>1.668791e+09</td>\n",
       "      <td>4180</td>\n",
       "      <td>247</td>\n",
       "      <td>119</td>\n",
       "      <td>4.736841</td>\n",
       "      <td>23</td>\n",
       "    </tr>\n",
       "    <tr>\n",
       "      <th>4</th>\n",
       "      <td>h2</td>\n",
       "      <td>1.668798e+09</td>\n",
       "      <td>13690</td>\n",
       "      <td>978</td>\n",
       "      <td>486</td>\n",
       "      <td>8.023716</td>\n",
       "      <td>27</td>\n",
       "    </tr>\n",
       "  </tbody>\n",
       "</table>\n",
       "</div>"
      ],
      "text/plain": [
       "  heuristic    start_time unit_literals number_of_nodes number_of_backtracks  \\\n",
       "0        h2  1.668796e+09          3995             234                  114   \n",
       "1        h2  1.668791e+09          4413             253                  124   \n",
       "2        h2  1.668792e+09          7973             494                  244   \n",
       "3        h2  1.668791e+09          4180             247                  119   \n",
       "4        h2  1.668798e+09         13690             978                  486   \n",
       "\n",
       "   time_lapsed n_givens  \n",
       "0     4.101451       25  \n",
       "1     4.286041       22  \n",
       "2     8.806196       24  \n",
       "3     4.736841       23  \n",
       "4     8.023716       27  "
      ]
     },
     "execution_count": 7,
     "metadata": {},
     "output_type": "execute_result"
    }
   ],
   "source": [
    "result_df_h2 = logs_to_df(path_s2)\n",
    "result_df_h2['heuristic'] = 'h2'\n",
    "result_df_h2.head()"
   ]
  },
  {
   "cell_type": "markdown",
   "metadata": {},
   "source": [
    "### 9x9 heuristic 3 one-sided:"
   ]
  },
  {
   "cell_type": "code",
   "execution_count": 8,
   "metadata": {},
   "outputs": [
    {
     "data": {
      "text/html": [
       "<div>\n",
       "<style scoped>\n",
       "    .dataframe tbody tr th:only-of-type {\n",
       "        vertical-align: middle;\n",
       "    }\n",
       "\n",
       "    .dataframe tbody tr th {\n",
       "        vertical-align: top;\n",
       "    }\n",
       "\n",
       "    .dataframe thead th {\n",
       "        text-align: right;\n",
       "    }\n",
       "</style>\n",
       "<table border=\"1\" class=\"dataframe\">\n",
       "  <thead>\n",
       "    <tr style=\"text-align: right;\">\n",
       "      <th></th>\n",
       "      <th>heuristic</th>\n",
       "      <th>start_time</th>\n",
       "      <th>unit_literals</th>\n",
       "      <th>number_of_nodes</th>\n",
       "      <th>number_of_backtracks</th>\n",
       "      <th>time_lapsed</th>\n",
       "      <th>n_givens</th>\n",
       "    </tr>\n",
       "  </thead>\n",
       "  <tbody>\n",
       "    <tr>\n",
       "      <th>0</th>\n",
       "      <td>jw_one_sided</td>\n",
       "      <td>1.668869e+09</td>\n",
       "      <td>1103</td>\n",
       "      <td>24</td>\n",
       "      <td>3</td>\n",
       "      <td>4.971647</td>\n",
       "      <td>25</td>\n",
       "    </tr>\n",
       "    <tr>\n",
       "      <th>1</th>\n",
       "      <td>jw_one_sided</td>\n",
       "      <td>1.668869e+09</td>\n",
       "      <td>1621</td>\n",
       "      <td>67</td>\n",
       "      <td>24</td>\n",
       "      <td>5.786775</td>\n",
       "      <td>25</td>\n",
       "    </tr>\n",
       "    <tr>\n",
       "      <th>2</th>\n",
       "      <td>jw_one_sided</td>\n",
       "      <td>1.668862e+09</td>\n",
       "      <td>2871</td>\n",
       "      <td>158</td>\n",
       "      <td>69</td>\n",
       "      <td>3.458909</td>\n",
       "      <td>24</td>\n",
       "    </tr>\n",
       "    <tr>\n",
       "      <th>3</th>\n",
       "      <td>jw_one_sided</td>\n",
       "      <td>1.668862e+09</td>\n",
       "      <td>1073</td>\n",
       "      <td>23</td>\n",
       "      <td>2</td>\n",
       "      <td>2.449120</td>\n",
       "      <td>24</td>\n",
       "    </tr>\n",
       "    <tr>\n",
       "      <th>4</th>\n",
       "      <td>jw_one_sided</td>\n",
       "      <td>1.668866e+09</td>\n",
       "      <td>77735</td>\n",
       "      <td>8970</td>\n",
       "      <td>4466</td>\n",
       "      <td>61.700285</td>\n",
       "      <td>24</td>\n",
       "    </tr>\n",
       "  </tbody>\n",
       "</table>\n",
       "</div>"
      ],
      "text/plain": [
       "      heuristic    start_time unit_literals number_of_nodes  \\\n",
       "0  jw_one_sided  1.668869e+09          1103              24   \n",
       "1  jw_one_sided  1.668869e+09          1621              67   \n",
       "2  jw_one_sided  1.668862e+09          2871             158   \n",
       "3  jw_one_sided  1.668862e+09          1073              23   \n",
       "4  jw_one_sided  1.668866e+09         77735            8970   \n",
       "\n",
       "  number_of_backtracks  time_lapsed n_givens  \n",
       "0                    3     4.971647       25  \n",
       "1                   24     5.786775       25  \n",
       "2                   69     3.458909       24  \n",
       "3                    2     2.449120       24  \n",
       "4                 4466    61.700285       24  "
      ]
     },
     "execution_count": 8,
     "metadata": {},
     "output_type": "execute_result"
    }
   ],
   "source": [
    "result_df_h3_one_sided = logs_to_df(path_s3_one_sided)\n",
    "result_df_h3_one_sided['heuristic'] = 'jw_one_sided'\n",
    "result_df_h3_one_sided.head()"
   ]
  },
  {
   "cell_type": "markdown",
   "metadata": {},
   "source": [
    "### 9x9 heuristic 3 two-sided"
   ]
  },
  {
   "cell_type": "code",
   "execution_count": 9,
   "metadata": {},
   "outputs": [
    {
     "data": {
      "text/html": [
       "<div>\n",
       "<style scoped>\n",
       "    .dataframe tbody tr th:only-of-type {\n",
       "        vertical-align: middle;\n",
       "    }\n",
       "\n",
       "    .dataframe tbody tr th {\n",
       "        vertical-align: top;\n",
       "    }\n",
       "\n",
       "    .dataframe thead th {\n",
       "        text-align: right;\n",
       "    }\n",
       "</style>\n",
       "<table border=\"1\" class=\"dataframe\">\n",
       "  <thead>\n",
       "    <tr style=\"text-align: right;\">\n",
       "      <th></th>\n",
       "      <th>heuristic</th>\n",
       "      <th>start_time</th>\n",
       "      <th>unit_literals</th>\n",
       "      <th>number_of_nodes</th>\n",
       "      <th>number_of_backtracks</th>\n",
       "      <th>time_lapsed</th>\n",
       "      <th>n_givens</th>\n",
       "    </tr>\n",
       "  </thead>\n",
       "  <tbody>\n",
       "    <tr>\n",
       "      <th>0</th>\n",
       "      <td>jw_two_sided</td>\n",
       "      <td>1.668966e+09</td>\n",
       "      <td>3353</td>\n",
       "      <td>282</td>\n",
       "      <td>134</td>\n",
       "      <td>3.578810</td>\n",
       "      <td>27</td>\n",
       "    </tr>\n",
       "    <tr>\n",
       "      <th>1</th>\n",
       "      <td>jw_two_sided</td>\n",
       "      <td>1.668963e+09</td>\n",
       "      <td>2956</td>\n",
       "      <td>214</td>\n",
       "      <td>98</td>\n",
       "      <td>4.272283</td>\n",
       "      <td>26</td>\n",
       "    </tr>\n",
       "    <tr>\n",
       "      <th>2</th>\n",
       "      <td>jw_two_sided</td>\n",
       "      <td>1.668954e+09</td>\n",
       "      <td>5021</td>\n",
       "      <td>382</td>\n",
       "      <td>184</td>\n",
       "      <td>5.443486</td>\n",
       "      <td>23</td>\n",
       "    </tr>\n",
       "    <tr>\n",
       "      <th>3</th>\n",
       "      <td>jw_two_sided</td>\n",
       "      <td>1.668958e+09</td>\n",
       "      <td>2506</td>\n",
       "      <td>139</td>\n",
       "      <td>60</td>\n",
       "      <td>3.544572</td>\n",
       "      <td>24</td>\n",
       "    </tr>\n",
       "    <tr>\n",
       "      <th>4</th>\n",
       "      <td>jw_two_sided</td>\n",
       "      <td>1.668966e+09</td>\n",
       "      <td>1135</td>\n",
       "      <td>24</td>\n",
       "      <td>3</td>\n",
       "      <td>2.669436</td>\n",
       "      <td>27</td>\n",
       "    </tr>\n",
       "  </tbody>\n",
       "</table>\n",
       "</div>"
      ],
      "text/plain": [
       "      heuristic    start_time unit_literals number_of_nodes  \\\n",
       "0  jw_two_sided  1.668966e+09          3353             282   \n",
       "1  jw_two_sided  1.668963e+09          2956             214   \n",
       "2  jw_two_sided  1.668954e+09          5021             382   \n",
       "3  jw_two_sided  1.668958e+09          2506             139   \n",
       "4  jw_two_sided  1.668966e+09          1135              24   \n",
       "\n",
       "  number_of_backtracks  time_lapsed n_givens  \n",
       "0                  134     3.578810       27  \n",
       "1                   98     4.272283       26  \n",
       "2                  184     5.443486       23  \n",
       "3                   60     3.544572       24  \n",
       "4                    3     2.669436       27  "
      ]
     },
     "execution_count": 9,
     "metadata": {},
     "output_type": "execute_result"
    }
   ],
   "source": [
    "result_df_h3_two_sided = logs_to_df(path_s3_two_sided)\n",
    "result_df_h3_two_sided['heuristic'] = 'jw_two_sided'\n",
    "result_df_h3_two_sided.head()"
   ]
  },
  {
   "cell_type": "markdown",
   "metadata": {},
   "source": [
    "### 4x4 heuristic 1"
   ]
  },
  {
   "cell_type": "markdown",
   "metadata": {},
   "source": [
    "### concat all dataframes:"
   ]
  },
  {
   "cell_type": "code",
   "execution_count": 10,
   "metadata": {},
   "outputs": [],
   "source": [
    "sudoku4x4_results =  pd.concat([result_df_h2,result_df_h3_one_sided,result_df_h3_two_sided])"
   ]
  },
  {
   "cell_type": "markdown",
   "metadata": {},
   "source": [
    "#### main statistics:"
   ]
  },
  {
   "cell_type": "code",
   "execution_count": 11,
   "metadata": {},
   "outputs": [
    {
     "data": {
      "text/plain": [
       "heuristic                  3\n",
       "start_time              3000\n",
       "unit_literals           1823\n",
       "number_of_nodes          994\n",
       "number_of_backtracks     761\n",
       "time_lapsed             3000\n",
       "n_givens                   9\n",
       "dtype: int64"
      ]
     },
     "execution_count": 11,
     "metadata": {},
     "output_type": "execute_result"
    }
   ],
   "source": [
    "sudoku4x4_results.nunique()"
   ]
  },
  {
   "cell_type": "code",
   "execution_count": 12,
   "metadata": {},
   "outputs": [
    {
     "data": {
      "text/html": [
       "<div>\n",
       "<style scoped>\n",
       "    .dataframe tbody tr th:only-of-type {\n",
       "        vertical-align: middle;\n",
       "    }\n",
       "\n",
       "    .dataframe tbody tr th {\n",
       "        vertical-align: top;\n",
       "    }\n",
       "\n",
       "    .dataframe thead tr th {\n",
       "        text-align: left;\n",
       "    }\n",
       "\n",
       "    .dataframe thead tr:last-of-type th {\n",
       "        text-align: right;\n",
       "    }\n",
       "</style>\n",
       "<table border=\"1\" class=\"dataframe\">\n",
       "  <thead>\n",
       "    <tr>\n",
       "      <th></th>\n",
       "      <th colspan=\"4\" halign=\"left\">time_lapsed</th>\n",
       "    </tr>\n",
       "    <tr>\n",
       "      <th></th>\n",
       "      <th>mean</th>\n",
       "      <th>std</th>\n",
       "      <th>min</th>\n",
       "      <th>max</th>\n",
       "    </tr>\n",
       "    <tr>\n",
       "      <th>heuristic</th>\n",
       "      <th></th>\n",
       "      <th></th>\n",
       "      <th></th>\n",
       "      <th></th>\n",
       "    </tr>\n",
       "  </thead>\n",
       "  <tbody>\n",
       "    <tr>\n",
       "      <th>h2</th>\n",
       "      <td>7.505491</td>\n",
       "      <td>56.141696</td>\n",
       "      <td>2.237815</td>\n",
       "      <td>1510.438674</td>\n",
       "    </tr>\n",
       "    <tr>\n",
       "      <th>jw_one_sided</th>\n",
       "      <td>16.390491</td>\n",
       "      <td>81.083646</td>\n",
       "      <td>2.302307</td>\n",
       "      <td>2445.071986</td>\n",
       "    </tr>\n",
       "    <tr>\n",
       "      <th>jw_two_sided</th>\n",
       "      <td>14.466347</td>\n",
       "      <td>43.330156</td>\n",
       "      <td>2.312166</td>\n",
       "      <td>1144.963994</td>\n",
       "    </tr>\n",
       "  </tbody>\n",
       "</table>\n",
       "</div>"
      ],
      "text/plain": [
       "             time_lapsed                                  \n",
       "                    mean        std       min          max\n",
       "heuristic                                                 \n",
       "h2              7.505491  56.141696  2.237815  1510.438674\n",
       "jw_one_sided   16.390491  81.083646  2.302307  2445.071986\n",
       "jw_two_sided   14.466347  43.330156  2.312166  1144.963994"
      ]
     },
     "execution_count": 12,
     "metadata": {},
     "output_type": "execute_result"
    }
   ],
   "source": [
    "time_stats = sudoku4x4_results[[\"heuristic\", \"time_lapsed\"]].groupby(\"heuristic\").agg({'time_lapsed': ['mean','std' ,'min', 'max']})\n",
    "time_stats"
   ]
  },
  {
   "cell_type": "code",
   "execution_count": 13,
   "metadata": {},
   "outputs": [
    {
     "data": {
      "text/html": [
       "<div>\n",
       "<style scoped>\n",
       "    .dataframe tbody tr th:only-of-type {\n",
       "        vertical-align: middle;\n",
       "    }\n",
       "\n",
       "    .dataframe tbody tr th {\n",
       "        vertical-align: top;\n",
       "    }\n",
       "\n",
       "    .dataframe thead tr th {\n",
       "        text-align: left;\n",
       "    }\n",
       "\n",
       "    .dataframe thead tr:last-of-type th {\n",
       "        text-align: right;\n",
       "    }\n",
       "</style>\n",
       "<table border=\"1\" class=\"dataframe\">\n",
       "  <thead>\n",
       "    <tr>\n",
       "      <th></th>\n",
       "      <th colspan=\"4\" halign=\"left\">number_of_backtracks</th>\n",
       "    </tr>\n",
       "    <tr>\n",
       "      <th></th>\n",
       "      <th>mean</th>\n",
       "      <th>std</th>\n",
       "      <th>min</th>\n",
       "      <th>max</th>\n",
       "    </tr>\n",
       "    <tr>\n",
       "      <th>heuristic</th>\n",
       "      <th></th>\n",
       "      <th></th>\n",
       "      <th></th>\n",
       "      <th></th>\n",
       "    </tr>\n",
       "  </thead>\n",
       "  <tbody>\n",
       "    <tr>\n",
       "      <th>h2</th>\n",
       "      <td>148.513</td>\n",
       "      <td>185.654565</td>\n",
       "      <td>0</td>\n",
       "      <td>1774</td>\n",
       "    </tr>\n",
       "    <tr>\n",
       "      <th>jw_one_sided</th>\n",
       "      <td>842.266</td>\n",
       "      <td>1750.845221</td>\n",
       "      <td>0</td>\n",
       "      <td>21241</td>\n",
       "    </tr>\n",
       "    <tr>\n",
       "      <th>jw_two_sided</th>\n",
       "      <td>842.266</td>\n",
       "      <td>1750.845221</td>\n",
       "      <td>0</td>\n",
       "      <td>21241</td>\n",
       "    </tr>\n",
       "  </tbody>\n",
       "</table>\n",
       "</div>"
      ],
      "text/plain": [
       "             number_of_backtracks                        \n",
       "                             mean          std min    max\n",
       "heuristic                                                \n",
       "h2                        148.513   185.654565   0   1774\n",
       "jw_one_sided              842.266  1750.845221   0  21241\n",
       "jw_two_sided              842.266  1750.845221   0  21241"
      ]
     },
     "execution_count": 13,
     "metadata": {},
     "output_type": "execute_result"
    }
   ],
   "source": [
    "backtrack_stats = sudoku4x4_results[[\"heuristic\",'number_of_backtracks']].groupby(\"heuristic\").agg({'number_of_backtracks': ['mean','std' ,'min', 'max']})\n",
    "backtrack_stats"
   ]
  },
  {
   "cell_type": "code",
   "execution_count": 14,
   "metadata": {},
   "outputs": [
    {
     "data": {
      "text/html": [
       "<div>\n",
       "<style scoped>\n",
       "    .dataframe tbody tr th:only-of-type {\n",
       "        vertical-align: middle;\n",
       "    }\n",
       "\n",
       "    .dataframe tbody tr th {\n",
       "        vertical-align: top;\n",
       "    }\n",
       "\n",
       "    .dataframe thead tr th {\n",
       "        text-align: left;\n",
       "    }\n",
       "\n",
       "    .dataframe thead tr:last-of-type th {\n",
       "        text-align: right;\n",
       "    }\n",
       "</style>\n",
       "<table border=\"1\" class=\"dataframe\">\n",
       "  <thead>\n",
       "    <tr>\n",
       "      <th></th>\n",
       "      <th colspan=\"4\" halign=\"left\">number_of_nodes</th>\n",
       "    </tr>\n",
       "    <tr>\n",
       "      <th></th>\n",
       "      <th>mean</th>\n",
       "      <th>std</th>\n",
       "      <th>min</th>\n",
       "      <th>max</th>\n",
       "    </tr>\n",
       "    <tr>\n",
       "      <th>heuristic</th>\n",
       "      <th></th>\n",
       "      <th></th>\n",
       "      <th></th>\n",
       "      <th></th>\n",
       "    </tr>\n",
       "  </thead>\n",
       "  <tbody>\n",
       "    <tr>\n",
       "      <th>h2</th>\n",
       "      <td>304.045</td>\n",
       "      <td>371.472296</td>\n",
       "      <td>16</td>\n",
       "      <td>3556</td>\n",
       "    </tr>\n",
       "    <tr>\n",
       "      <th>jw_one_sided</th>\n",
       "      <td>1709.823</td>\n",
       "      <td>3503.237208</td>\n",
       "      <td>14</td>\n",
       "      <td>42514</td>\n",
       "    </tr>\n",
       "    <tr>\n",
       "      <th>jw_two_sided</th>\n",
       "      <td>1709.823</td>\n",
       "      <td>3503.237208</td>\n",
       "      <td>14</td>\n",
       "      <td>42514</td>\n",
       "    </tr>\n",
       "  </tbody>\n",
       "</table>\n",
       "</div>"
      ],
      "text/plain": [
       "             number_of_nodes                        \n",
       "                        mean          std min    max\n",
       "heuristic                                           \n",
       "h2                   304.045   371.472296  16   3556\n",
       "jw_one_sided        1709.823  3503.237208  14  42514\n",
       "jw_two_sided        1709.823  3503.237208  14  42514"
      ]
     },
     "execution_count": 14,
     "metadata": {},
     "output_type": "execute_result"
    }
   ],
   "source": [
    "number_of_nodes_stats = sudoku4x4_results[[\"heuristic\",'number_of_nodes']].groupby(\"heuristic\").agg({'number_of_nodes': ['mean','std' ,'min', 'max']})\n",
    "number_of_nodes_stats"
   ]
  },
  {
   "cell_type": "markdown",
   "metadata": {},
   "source": [
    "### plotting:"
   ]
  },
  {
   "cell_type": "code",
   "execution_count": 15,
   "metadata": {},
   "outputs": [
    {
     "data": {
      "text/plain": [
       "<AxesSubplot: xlabel='heuristic'>"
      ]
     },
     "execution_count": 15,
     "metadata": {},
     "output_type": "execute_result"
    },
    {
     "data": {
      "image/png": "[encoded data removed]",
      "text/plain": [
       "<Figure size 640x480 with 1 Axes>"
      ]
     },
     "metadata": {},
     "output_type": "display_data"
    }
   ],
   "source": [
    "sudoku4x4_results.groupby(['heuristic'])['number_of_backtracks'].agg(['mean','std']).plot.bar()\n"
   ]
  },
  {
   "cell_type": "code",
   "execution_count": 16,
   "metadata": {},
   "outputs": [
    {
     "data": {
      "text/plain": [
       "<AxesSubplot: xlabel='heuristic'>"
      ]
     },
     "execution_count": 16,
     "metadata": {},
     "output_type": "execute_result"
    },
    {
     "data": {
      "image/png": "[encoded data removed]",
      "text/plain": [
       "<Figure size 640x480 with 1 Axes>"
      ]
     },
     "metadata": {},
     "output_type": "display_data"
    }
   ],
   "source": [
    "sudoku4x4_results.groupby(['heuristic'])['time_lapsed'].agg(['mean','std']).plot.bar()\n"
   ]
  },
  {
   "cell_type": "code",
   "execution_count": 18,
   "metadata": {},
   "outputs": [
    {
     "data": {
      "text/plain": [
       "[Text(0.5, 1.0, 'Frequency Histogram'), Text(0, 0.5, 'Frequency')]"
      ]
     },
     "execution_count": 18,
     "metadata": {},
     "output_type": "execute_result"
    },
    {
     "data": {
      "image/png": "[encoded data removed]",
      "text/plain": [
       "<Figure size 640x480 with 1 Axes>"
      ]
     },
     "metadata": {},
     "output_type": "display_data"
    }
   ],
   "source": [
    "# Plot Histogram on x\n",
    "plt.hist(result_df_h2['number_of_backtracks'], bins=20)\n",
    "plt.gca().set(title='Frequency Histogram', ylabel='Frequency')"
   ]
  },
  {
   "cell_type": "code",
   "execution_count": 19,
   "metadata": {},
   "outputs": [
    {
     "data": {
      "text/plain": [
       "[Text(0.5, 1.0, 'Frequency Histogram'), Text(0, 0.5, 'Frequency')]"
      ]
     },
     "execution_count": 19,
     "metadata": {},
     "output_type": "execute_result"
    },
    {
     "data": {
      "image/png": "[encoded data removed]",
      "text/plain": [
       "<Figure size 640x480 with 1 Axes>"
      ]
     },
     "metadata": {},
     "output_type": "display_data"
    }
   ],
   "source": [
    "plt.hist(result_df_h3_two_sided['number_of_backtracks'], bins=20)\n",
    "plt.gca().set(title='Frequency Histogram', ylabel='Frequency')"
   ]
  },
  {
   "cell_type": "code",
   "execution_count": 20,
   "metadata": {},
   "outputs": [
    {
     "data": {
      "text/plain": [
       "[Text(0.5, 1.0, 'Frequency Histogram'), Text(0, 0.5, 'Frequency')]"
      ]
     },
     "execution_count": 20,
     "metadata": {},
     "output_type": "execute_result"
    },
    {
     "data": {
      "image/png": "[encoded data removed]",
      "text/plain": [
       "<Figure size 640x480 with 1 Axes>"
      ]
     },
     "metadata": {},
     "output_type": "display_data"
    }
   ],
   "source": [
    "plt.hist(result_df_h3_one_sided['number_of_backtracks'], bins=20)\n",
    "plt.gca().set(title='Frequency Histogram', ylabel='Frequency')"
   ]
  }
 ],
 "metadata": {
  "kernelspec": {
   "display_name": "Python 3.10.7 ('siamese')",
   "language": "python",
   "name": "python3"
  },
  "language_info": {
   "codemirror_mode": {
    "name": "ipython",
    "version": 3
   },
   "file_extension": ".py",
   "mimetype": "text/x-python",
   "name": "python",
   "nbconvert_exporter": "python",
   "pygments_lexer": "ipython3",
   "version": "3.10.7"
  },
  "orig_nbformat": 4,
  "vscode": {
   "interpreter": {
    "hash": "8c2c28573e3a6626d5aac8da9077d5aaea25c67e9245ba4bcdcff87928e935e6"
   }
  }
 },
 "nbformat": 4,
 "nbformat_minor": 2
}
